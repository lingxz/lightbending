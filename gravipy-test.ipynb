{
 "cells": [
  {
   "cell_type": "code",
   "execution_count": 23,
   "metadata": {
    "collapsed": true
   },
   "outputs": [],
   "source": [
    "from sympy import *\n",
    "from gravipy import *\n",
    "init_printing(use_unicode=False, wrap_line=False, no_global=True)"
   ]
  },
  {
   "cell_type": "code",
   "execution_count": 22,
   "metadata": {
    "collapsed": true
   },
   "outputs": [],
   "source": [
    "# x,y,z = symbols('x y z')\n",
    "t, r, theta, phi = symbols('t, r, \\\\theta, \\phi')\n",
    "tau = symbols('\\\\tau')"
   ]
  },
  {
   "cell_type": "code",
   "execution_count": 3,
   "metadata": {
    "collapsed": true
   },
   "outputs": [],
   "source": [
    "x = Coordinates('\\chi', [t, r, theta, phi])"
   ]
  },
  {
   "cell_type": "code",
   "execution_count": 8,
   "metadata": {},
   "outputs": [],
   "source": [
    "M = symbols('M')\n",
    "Metric = diag(-(1-2*M/r), 1/(1-2*M/r), r**2, r**2*sin(theta)**2)\n",
    "g = MetricTensor('g', x, Metric)"
   ]
  },
  {
   "cell_type": "code",
   "execution_count": 12,
   "metadata": {
    "collapsed": true
   },
   "outputs": [],
   "source": [
    "Ga = Christoffel('Ga', g)"
   ]
  },
  {
   "cell_type": "code",
   "execution_count": 19,
   "metadata": {
    "collapsed": true
   },
   "outputs": [],
   "source": [
    "w = Geodesic('w', g, tau)"
   ]
  },
  {
   "cell_type": "code",
   "execution_count": 25,
   "metadata": {},
   "outputs": [
    {
     "data": {
      "image/png": "[encoded data removed]",
      "text/latex": [
       "$$- \\frac{2 M \\frac{d}{d \\tau} r{\\left (\\tau \\right )}}{r^{2}{\\left (\\tau \\right )}} \\frac{d}{d \\tau} t{\\left (\\tau \\right )} + \\left(\\frac{2 M}{r{\\left (\\tau \\right )}} - 1\\right) \\frac{d^{2}}{d \\tau^{2}}  t{\\left (\\tau \\right )}$$"
      ],
      "text/plain": [
       "        d              d                                           \n",
       "  2*M*-----(r(\\tau))*-----(t(\\tau))                    2           \n",
       "      d\\tau          d\\tau            /  2*M      \\   d            \n",
       "- --------------------------------- + |------- - 1|*------(t(\\tau))\n",
       "                2                     \\r(\\tau)    /      2         \n",
       "               r (\\tau)                             d\\tau          "
      ]
     },
     "execution_count": 25,
     "metadata": {},
     "output_type": "execute_result"
    }
   ],
   "source": [
    "w(1)"
   ]
  }
 ],
 "metadata": {
  "kernelspec": {
   "display_name": "Python 3",
   "language": "python",
   "name": "python3"
  },
  "language_info": {
   "codemirror_mode": {
    "name": "ipython",
    "version": 3
   },
   "file_extension": ".py",
   "mimetype": "text/x-python",
   "name": "python",
   "nbconvert_exporter": "python",
   "pygments_lexer": "ipython3",
   "version": "3.6.2"
  }
 },
 "nbformat": 4,
 "nbformat_minor": 2
}
