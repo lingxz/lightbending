{
 "cells": [
  {
   "cell_type": "code",
   "execution_count": 1,
   "metadata": {
    "collapsed": true
   },
   "outputs": [],
   "source": [
    "from ipywidgets import interactive\n",
    "from IPython.display import display\n",
    "import numpy as np\n",
    "import matplotlib.pyplot as plt\n",
    "from matplotlib import rc, rcParams\n",
    "import core\n",
    "\n",
    "# configure plotting\n",
    "rc('text', usetex=True)\n",
    "plt.rc('font', family='serif')\n",
    "%config InlineBackend.rc = {'figure.dpi': 100, 'savefig.dpi': 300, \\\n",
    "                            'font.size': 20, \\\n",
    "                            'figure.facecolor': (1, 1, 1, 0)}\n",
    "rcParams.update({'font.size': 20})\n",
    "%matplotlib inline"
   ]
  },
  {
   "cell_type": "code",
   "execution_count": 2,
   "metadata": {},
   "outputs": [
    {
     "data": {
      "application/vnd.jupyter.widget-view+json": {
       "model_id": "697fde00fd734be2bd8603c3b5b8b84b",
       "version_major": 2,
       "version_minor": 0
      },
      "text/html": [
       "<p>Failed to display Jupyter Widget of type <code>interactive</code>.</p>\n",
       "<p>\n",
       "  If you're reading this message in Jupyter Notebook or JupyterLab, it may mean\n",
       "  that the widgets JavaScript is still loading. If this message persists, it\n",
       "  likely means that the widgets JavaScript library is either not installed or\n",
       "  not enabled. See the <a href=\"https://ipywidgets.readthedocs.io/en/stable/user_install.html\">Jupyter\n",
       "  Widgets Documentation</a> for setup instructions.\n",
       "</p>\n",
       "<p>\n",
       "  If you're reading this message in another notebook frontend (for example, a static\n",
       "  rendering on GitHub or <a href=\"https://nbviewer.jupyter.org/\">NBViewer</a>),\n",
       "  it may mean that your frontend doesn't currently support widgets.\n",
       "</p>\n"
      ],
      "text/plain": [
       "interactive(children=(FloatSlider(value=11.5, description='b', max=20.0, min=3.0), Output()), _dom_classes=('widget-interact',))"
      ]
     },
     "metadata": {},
     "output_type": "display_data"
    }
   ],
   "source": [
    "M = 1.\n",
    "max_t = 1000.\n",
    "def plot_rays(b):\n",
    "    initial_x = -30.\n",
    "    initial_r = np.sqrt(b**2 + initial_x**2)\n",
    "    initial_phi = np.arccos(initial_x / initial_r)\n",
    "    initial_rdot = np.cos(initial_phi)\n",
    "    initial_phidot = -np.sqrt((1 - initial_rdot**2) / initial_r**2)\n",
    "    L = initial_r**2 * initial_phidot\n",
    "    d = core.solve(max_t, [initial_r, initial_rdot, initial_phi], [M, L])\n",
    "    \n",
    "    axes = plt.gca()\n",
    "    lim = -initial_x\n",
    "    axes.set_xlim([-lim,lim])\n",
    "    axes.set_ylim([-lim,lim])\n",
    "    # plot the blackhole\n",
    "    circle = plt.Circle((0., 0.), 2*M, color='black', fill=True, zorder=10)\n",
    "    axes.add_artist(circle)\n",
    "    axes.set_aspect('equal', adjustable='box')\n",
    "    \n",
    "    plt.show()\n",
    "\n",
    "w = interactive(plot_rays, b=(3., 20., 0.1))\n",
    "display(w)"
   ]
  },
  {
   "cell_type": "code",
   "execution_count": 3,
   "metadata": {},
   "outputs": [
    {
     "data": {
      "application/vnd.jupyter.widget-view+json": {
       "model_id": "ebba4bc9b9e641d7bfdf9af2d09943ac",
       "version_major": 2,
       "version_minor": 0
      },
      "text/html": [
       "<p>Failed to display Jupyter Widget of type <code>interactive</code>.</p>\n",
       "<p>\n",
       "  If you're reading this message in Jupyter Notebook or JupyterLab, it may mean\n",
       "  that the widgets JavaScript is still loading. If this message persists, it\n",
       "  likely means that the widgets JavaScript library is either not installed or\n",
       "  not enabled. See the <a href=\"https://ipywidgets.readthedocs.io/en/stable/user_install.html\">Jupyter\n",
       "  Widgets Documentation</a> for setup instructions.\n",
       "</p>\n",
       "<p>\n",
       "  If you're reading this message in another notebook frontend (for example, a static\n",
       "  rendering on GitHub or <a href=\"https://nbviewer.jupyter.org/\">NBViewer</a>),\n",
       "  it may mean that your frontend doesn't currently support widgets.\n",
       "</p>\n"
      ],
      "text/plain": [
       "interactive(children=(FloatSlider(value=65.0, description='b', min=30.0, step=1.0), Output()), _dom_classes=('widget-interact',))"
      ]
     },
     "metadata": {},
     "output_type": "display_data"
    }
   ],
   "source": [
    "max_t = 1000.\n",
    "\n",
    "def plot_rays2(b):\n",
    "    initial_x = -110.\n",
    "    initial_r = np.sqrt(b**2 + initial_x**2)\n",
    "    initial_phi = np.arccos(initial_x / initial_r)\n",
    "    initial_rdot = np.cos(initial_phi)\n",
    "    initial_phidot = -np.sqrt((1 - initial_rdot**2) / initial_r**2)\n",
    "    L = initial_r**2 * initial_phidot\n",
    "    d = core.solve(max_t, [initial_r, initial_rdot, initial_phi], [M, L])\n",
    "    \n",
    "    axes = plt.gca()\n",
    "    lim = -initial_x\n",
    "    axes.set_xlim([-lim,lim])\n",
    "    axes.set_ylim([-lim,lim])\n",
    "    # plot the blackhole\n",
    "    circle = plt.Circle((0., 0.), 2*M, color='black', fill=True, zorder=10)\n",
    "    axes.add_artist(circle)\n",
    "    axes.set_aspect('equal', adjustable='box')\n",
    "    \n",
    "    plt.show()\n",
    "\n",
    "w = interactive(plot_rays2, b=(30., 100., 1.))\n",
    "display(w)"
   ]
  }
 ],
 "metadata": {
  "kernelspec": {
   "display_name": "Python 3",
   "language": "python",
   "name": "python3"
  },
  "language_info": {
   "codemirror_mode": {
    "name": "ipython",
    "version": 3
   },
   "file_extension": ".py",
   "mimetype": "text/x-python",
   "name": "python",
   "nbconvert_exporter": "python",
   "pygments_lexer": "ipython3",
   "version": "3.6.2"
  }
 },
 "nbformat": 4,
 "nbformat_minor": 2
}
