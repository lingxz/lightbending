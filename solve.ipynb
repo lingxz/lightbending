{
 "cells": [
  {
   "cell_type": "code",
   "execution_count": 1,
   "metadata": {
    "collapsed": true
   },
   "outputs": [],
   "source": [
    "import sympy as sy\n",
    "sy.init_printing(use_unicode=False, wrap_line=False, no_global=True)"
   ]
  },
  {
   "cell_type": "code",
   "execution_count": 2,
   "metadata": {},
   "outputs": [],
   "source": [
    "t, M = sy.symbols('t,M')\n",
    "r = sy.Function('r')(t)\n",
    "theta = sy.Function('theta')(t)\n",
    "phi = sy.Function('phi')(t)"
   ]
  },
  {
   "cell_type": "code",
   "execution_count": 7,
   "metadata": {},
   "outputs": [
    {
     "data": {
      "image/png": "[encoded data removed]",
      "text/latex": [
       "$$- \\frac{2 M}{r{\\left (t \\right )}} + 1$$"
      ],
      "text/plain": [
       "  2*M     \n",
       "- ---- + 1\n",
       "  r(t)    "
      ]
     },
     "execution_count": 7,
     "metadata": {},
     "output_type": "execute_result"
    }
   ],
   "source": [
    "f = 1 - 2 * M / r\n",
    "f"
   ]
  },
  {
   "cell_type": "code",
   "execution_count": 24,
   "metadata": {},
   "outputs": [],
   "source": [
    "null_condition = sy.Eq(-f + 1 / f * sy.diff(r, t)**2 + r**2 * sy.diff(phi, t)**2, 0)\n",
    "t_geodesic = sy.Eq(1 + 2 * M / (r**2 - 2*M*r)* r.diff(t), 0)\n",
    "r_geodesic = sy.Eq(r.diff(t, t), - M*(r - 2*M)/r**3 + M/r/(r-2*M)*r.diff(t)**2 + (r - 2*M) * phi.diff(t)**2)\n",
    "phi_geodesic = sy.Eq(phi.diff(t, t), -2/r * r.diff(t) * phi.diff(t))"
   ]
  },
  {
   "cell_type": "code",
   "execution_count": 20,
   "metadata": {},
   "outputs": [
    {
     "data": {
      "image/png": "[encoded data removed]",
      "text/latex": [
       "$$\\left [ \\frac{2 M \\frac{d}{d t} r{\\left (t \\right )}}{- 2 M r{\\left (t \\right )} + r^{2}{\\left (t \\right )}} + 1 = 0, \\quad \\frac{2 M}{r{\\left (t \\right )}} + r^{2}{\\left (t \\right )} \\left(\\frac{d}{d t} \\phi{\\left (t \\right )}\\right)^{2} - 1 + \\frac{\\left(\\frac{d}{d t} r{\\left (t \\right )}\\right)^{2}}{- \\frac{2 M}{r{\\left (t \\right )}} + 1} = 0\\right ]$$"
      ],
      "text/plain": [
       "                                                                       2     \n",
       "        d                                                    /d       \\      \n",
       "    2*M*--(r(t))                                     2       |--(r(t))|      \n",
       "        dt                  2*M     2    /d         \\        \\dt      /      \n",
       "[----------------- + 1 = 0, ---- + r (t)*|--(phi(t))|  - 1 + ----------- = 0]\n",
       "              2             r(t)         \\dt        /           2*M          \n",
       " -2*M*r(t) + r (t)                                            - ---- + 1     \n",
       "                                                                r(t)         "
      ]
     },
     "execution_count": 20,
     "metadata": {},
     "output_type": "execute_result"
    }
   ],
   "source": [
    "sy.simplify([t_geodesic, null_condition])"
   ]
  }
 ],
 "metadata": {
  "kernelspec": {
   "display_name": "Python 3",
   "language": "python",
   "name": "python3"
  },
  "language_info": {
   "codemirror_mode": {
    "name": "ipython",
    "version": 3
   },
   "file_extension": ".py",
   "mimetype": "text/x-python",
   "name": "python",
   "nbconvert_exporter": "python",
   "pygments_lexer": "ipython3",
   "version": "3.6.2"
  }
 },
 "nbformat": 4,
 "nbformat_minor": 2
}
