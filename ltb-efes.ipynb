{
 "cells": [
  {
   "cell_type": "code",
   "execution_count": 1,
   "metadata": {
    "collapsed": true
   },
   "outputs": [],
   "source": [
    "from sympy import *\n",
    "from gravipy import *\n",
    "init_printing(use_unicode=False, wrap_line=False, no_global=True)"
   ]
  },
  {
   "cell_type": "code",
   "execution_count": 2,
   "metadata": {
    "collapsed": true
   },
   "outputs": [],
   "source": [
    "t, r, phi, theta, tau= symbols('t, r, \\\\phi, \\\\theta, \\\\tau')"
   ]
  },
  {
   "cell_type": "code",
   "execution_count": 3,
   "metadata": {
    "collapsed": true
   },
   "outputs": [],
   "source": [
    "x = Coordinates('\\chi', [t, r, phi, theta])"
   ]
  },
  {
   "cell_type": "code",
   "execution_count": 4,
   "metadata": {
    "collapsed": true
   },
   "outputs": [],
   "source": [
    "M, Lambda = symbols('M, \\\\Lambda')"
   ]
  },
  {
   "cell_type": "code",
   "execution_count": 5,
   "metadata": {},
   "outputs": [],
   "source": [
    "R = Function('R')(r, t)\n",
    "# E = Function('E')(r)\n",
    "# a = Function('a')(t)\n",
    "# k = Symbol('k')\n",
    "# alpha = Function('\\\\alpha')(r, t)\n",
    "Metric = diag(-1, 2*M/R + Lambda/3*R**2, R**2, R**2*(sin(theta))**2)\n",
    "g = MetricTensor('g', x, Metric)\n",
    "Ga = Christoffel('Ga', g)\n",
    "Ri = Ricci('Ri', g)\n",
    "G = Einstein('G', Ri)\n",
    "w = Geodesic('w', g, tau)"
   ]
  },
  {
   "cell_type": "code",
   "execution_count": 6,
   "metadata": {},
   "outputs": [
    {
     "data": {
      "image/png": "[encoded data removed]",
      "text/latex": [
       "$$- \\frac{1}{2} \\left(- \\frac{2 M \\frac{d}{d t{\\left (\\tau \\right )}} R{\\left (r{\\left (\\tau \\right )},t{\\left (\\tau \\right )} \\right )}}{R^{2}{\\left (r{\\left (\\tau \\right )},t{\\left (\\tau \\right )} \\right )}} + \\frac{2 \\Lambda}{3} R{\\left (r{\\left (\\tau \\right )},t{\\left (\\tau \\right )} \\right )} \\frac{d}{d t{\\left (\\tau \\right )}} R{\\left (r{\\left (\\tau \\right )},t{\\left (\\tau \\right )} \\right )}\\right) \\left(\\frac{d}{d \\tau} r{\\left (\\tau \\right )}\\right)^{2} - R{\\left (r{\\left (\\tau \\right )},t{\\left (\\tau \\right )} \\right )} \\sin^{2}{\\left (\\theta{\\left (\\tau \\right )} \\right )} \\frac{d}{d t{\\left (\\tau \\right )}} R{\\left (r{\\left (\\tau \\right )},t{\\left (\\tau \\right )} \\right )} \\left(\\frac{d}{d \\tau} \\theta{\\left (\\tau \\right )}\\right)^{2} - R{\\left (r{\\left (\\tau \\right )},t{\\left (\\tau \\right )} \\right )} \\frac{d}{d t{\\left (\\tau \\right )}} R{\\left (r{\\left (\\tau \\right )},t{\\left (\\tau \\right )} \\right )} \\left(\\frac{d}{d \\tau} \\phi{\\left (\\tau \\right )}\\right)^{2} - \\frac{d^{2}}{d \\tau^{2}}  t{\\left (\\tau \\right )}$$"
      ],
      "text/plain": [
       "  /         d                                                             d                         \\                                                                                                                                                                                                           \n",
       "  |  2*M*--------(R(r(\\tau), t(\\tau)))   2*\\Lambda*R(r(\\tau), t(\\tau))*--------(R(r(\\tau), t(\\tau)))|                 2                                                                                                                                                                                         \n",
       "  |      dt(\\tau)                                                      dt(\\tau)                     | /  d           \\                                                                                                                                                                                          \n",
       "  |- --------------------------------- + -----------------------------------------------------------|*|-----(r(\\tau))|                                                                                                                                                                                          \n",
       "  |          2                                                        3                             | \\d\\tau         /                                                                                              2                                                                        2      2           \n",
       "  \\         R (r(\\tau), t(\\tau))                                                                    /                                            2                  d                          /  d                \\                           d                          /  d              \\      d            \n",
       "- --------------------------------------------------------------------------------------------------------------------- - R(r(\\tau), t(\\tau))*sin (\\theta(\\tau))*--------(R(r(\\tau), t(\\tau)))*|-----(\\theta(\\tau))|  - R(r(\\tau), t(\\tau))*--------(R(r(\\tau), t(\\tau)))*|-----(\\phi(\\tau))|  - ------(t(\\tau))\n",
       "                                                            2                                                                                                    dt(\\tau)                      \\d\\tau              /                        dt(\\tau)                      \\d\\tau            /         2         \n",
       "                                                                                                                                                                                                                                                                                                 d\\tau          "
      ]
     },
     "execution_count": 6,
     "metadata": {},
     "output_type": "execute_result"
    }
   ],
   "source": [
    "w(1)"
   ]
  },
  {
   "cell_type": "code",
   "execution_count": 7,
   "metadata": {},
   "outputs": [
    {
     "data": {
      "image/png": "[encoded data removed]",
      "text/latex": [
       "$$\\left(\\frac{2 M}{R{\\left (r{\\left (\\tau \\right )},t{\\left (\\tau \\right )} \\right )}} + \\frac{\\Lambda}{3} R^{2}{\\left (r{\\left (\\tau \\right )},t{\\left (\\tau \\right )} \\right )}\\right) \\frac{d^{2}}{d \\tau^{2}}  r{\\left (\\tau \\right )} + \\left(\\frac{2 M}{R^{2}{\\left (r{\\left (\\tau \\right )},t{\\left (\\tau \\right )} \\right )}} \\left(- \\frac{d}{d \\tau} r{\\left (\\tau \\right )} \\left. \\frac{\\partial}{\\partial \\xi_{1}} R{\\left (\\xi_{1},t{\\left (\\tau \\right )} \\right )} \\right|_{\\substack{ \\xi_{1}=r{\\left (\\tau \\right )} }} - \\frac{d}{d \\tau} t{\\left (\\tau \\right )} \\left. \\frac{\\partial}{\\partial \\xi_{2}} R{\\left (r{\\left (\\tau \\right )},\\xi_{2} \\right )} \\right|_{\\substack{ \\xi_{2}=t{\\left (\\tau \\right )} }}\\right) + \\frac{\\Lambda}{3} \\left(2 \\frac{d}{d \\tau} r{\\left (\\tau \\right )} \\left. \\frac{\\partial}{\\partial \\xi_{1}} R{\\left (\\xi_{1},t{\\left (\\tau \\right )} \\right )} \\right|_{\\substack{ \\xi_{1}=r{\\left (\\tau \\right )} }} + 2 \\frac{d}{d \\tau} t{\\left (\\tau \\right )} \\left. \\frac{\\partial}{\\partial \\xi_{2}} R{\\left (r{\\left (\\tau \\right )},\\xi_{2} \\right )} \\right|_{\\substack{ \\xi_{2}=t{\\left (\\tau \\right )} }}\\right) R{\\left (r{\\left (\\tau \\right )},t{\\left (\\tau \\right )} \\right )}\\right) \\frac{d}{d \\tau} r{\\left (\\tau \\right )} - \\frac{1}{2} \\left(- \\frac{2 M \\frac{d}{d r{\\left (\\tau \\right )}} R{\\left (r{\\left (\\tau \\right )},t{\\left (\\tau \\right )} \\right )}}{R^{2}{\\left (r{\\left (\\tau \\right )},t{\\left (\\tau \\right )} \\right )}} + \\frac{2 \\Lambda}{3} R{\\left (r{\\left (\\tau \\right )},t{\\left (\\tau \\right )} \\right )} \\frac{d}{d r{\\left (\\tau \\right )}} R{\\left (r{\\left (\\tau \\right )},t{\\left (\\tau \\right )} \\right )}\\right) \\left(\\frac{d}{d \\tau} r{\\left (\\tau \\right )}\\right)^{2} - R{\\left (r{\\left (\\tau \\right )},t{\\left (\\tau \\right )} \\right )} \\sin^{2}{\\left (\\theta{\\left (\\tau \\right )} \\right )} \\frac{d}{d r{\\left (\\tau \\right )}} R{\\left (r{\\left (\\tau \\right )},t{\\left (\\tau \\right )} \\right )} \\left(\\frac{d}{d \\tau} \\theta{\\left (\\tau \\right )}\\right)^{2} - R{\\left (r{\\left (\\tau \\right )},t{\\left (\\tau \\right )} \\right )} \\frac{d}{d r{\\left (\\tau \\right )}} R{\\left (r{\\left (\\tau \\right )},t{\\left (\\tau \\right )} \\right )} \\left(\\frac{d}{d \\tau} \\phi{\\left (\\tau \\right )}\\right)^{2}$$"
      ],
      "text/plain": [
       "                                                                                                                                                                                                                                                                                                                                                                  /         d                                                             d                         \\                                                                                                                                                                                         \n",
       "                                                                                                                                                                                                                                                                                                                                                                  |  2*M*--------(R(r(\\tau), t(\\tau)))   2*\\Lambda*R(r(\\tau), t(\\tau))*--------(R(r(\\tau), t(\\tau)))|                 2                                                                                                                                                                       \n",
       "                                                                                                                                                                                                                                                                                                                                                                  |      dr(\\tau)                                                      dr(\\tau)                     | /  d           \\                                                                                                                                                                        \n",
       "                                                                       /    /    d            /  d                    \\|                 d            /  d                    \\|            \\           /    d            /  d                    \\|                   d            /  d                    \\|            \\                    \\                  |- --------------------------------- + -----------------------------------------------------------|*|-----(r(\\tau))|                                                                                                                                                                        \n",
       "/                               2                  \\    2              |2*M*|- -----(r(\\tau))*|-----(R(xi_1, t(\\tau)))||             - -----(t(\\tau))*|-----(R(r(\\tau), xi_2))||            |   \\Lambda*|2*-----(r(\\tau))*|-----(R(xi_1, t(\\tau)))||             + 2*-----(t(\\tau))*|-----(R(r(\\tau), xi_2))||            |*R(r(\\tau), t(\\tau))|                  |          2                                                        3                             | \\d\\tau         /                                                                                              2                                                                        2\n",
       "|        2*M           \\Lambda*R (r(\\tau), t(\\tau))|   d               |    \\  d\\tau          \\dxi_1                  /|xi_1=r(\\tau)   d\\tau          \\dxi_2                  /|xi_2=t(\\tau)/           \\  d\\tau          \\dxi_1                  /|xi_1=r(\\tau)     d\\tau          \\dxi_2                  /|xi_2=t(\\tau)/                    |   d              \\         R (r(\\tau), t(\\tau))                                                                    /                                            2                  d                          /  d                \\                           d                          /  d              \\ \n",
       "|------------------- + ----------------------------|*------(r(\\tau)) + |--------------------------------------------------------------------------------------------------------------------- + -----------------------------------------------------------------------------------------------------------------------------------------------|*-----(r(\\tau)) - --------------------------------------------------------------------------------------------------------------------- - R(r(\\tau), t(\\tau))*sin (\\theta(\\tau))*--------(R(r(\\tau), t(\\tau)))*|-----(\\theta(\\tau))|  - R(r(\\tau), t(\\tau))*--------(R(r(\\tau), t(\\tau)))*|-----(\\phi(\\tau))| \n",
       "\\R(r(\\tau), t(\\tau))                3              /      2            |                                                  2                                                                                                                                            3                                                                       | d\\tau                                                                      2                                                                                                    dr(\\tau)                      \\d\\tau              /                        dr(\\tau)                      \\d\\tau            / \n",
       "                                                     d\\tau             \\                                                 R (r(\\tau), t(\\tau))                                                                                                                                                                                                  /                                                                                                                                                                                                                                                                                                              "
      ]
     },
     "execution_count": 7,
     "metadata": {},
     "output_type": "execute_result"
    }
   ],
   "source": [
    "w(2)"
   ]
  },
  {
   "cell_type": "code",
   "execution_count": null,
   "metadata": {},
   "outputs": [],
   "source": [
    "w(3)"
   ]
  },
  {
   "cell_type": "code",
   "execution_count": null,
   "metadata": {},
   "outputs": [],
   "source": [
    "t, r, phi, theta, tau= symbols('t, r, \\\\phi, \\\\theta, \\\\tau')\n",
    "x = Coordinates('\\chi', [t, r, theta, phi])\n",
    "R = Function('R')(r, t)\n",
    "E = Function('E')(r)\n",
    "a = Function('a')(t)\n",
    "k = Symbol('k')\n",
    "alpha = Function('\\\\alpha')(r, t)\n",
    "Metric = diag(-1,(R.diff(r))**2/(1 + E), R**2, R**2*(sin(theta))**2)\n",
    "pprint(Metric)\n",
    "g = MetricTensor('g', x, Metric)\n",
    "Ga = Christoffel('Ga', g)\n",
    "Ri = Ricci('Ri', g)\n",
    "G = Einstein('G', Ri)"
   ]
  },
  {
   "cell_type": "code",
   "execution_count": null,
   "metadata": {},
   "outputs": [],
   "source": [
    "Ga(2, 1, 2)"
   ]
  },
  {
   "cell_type": "code",
   "execution_count": null,
   "metadata": {},
   "outputs": [],
   "source": [
    "G(1, 1)"
   ]
  },
  {
   "cell_type": "code",
   "execution_count": null,
   "metadata": {},
   "outputs": [],
   "source": [
    "G(2, 2)"
   ]
  },
  {
   "cell_type": "code",
   "execution_count": null,
   "metadata": {},
   "outputs": [],
   "source": [
    "G(3, 3)"
   ]
  },
  {
   "cell_type": "code",
   "execution_count": null,
   "metadata": {},
   "outputs": [],
   "source": [
    "G(4, 4)"
   ]
  },
  {
   "cell_type": "markdown",
   "metadata": {},
   "source": [
    "L = symbols('L')\n",
    "eta = symbols('\\\\eta')\n",
    "t = Function('t')(eta)\n",
    "r = Function('r')(eta)\n",
    "phi = Function('\\\\phi')(eta)\n",
    "R = Function('R')(r, t)\n",
    "E = Function('E')(r)\n",
    "\n",
    "rhs = (1 + E)/(R.diff(r))**2 * ((t.diff(eta))**2 - L**2 / R**2)\n",
    "result = rhs.diff(eta)\n",
    "result.simplify()\n",
    "result"
   ]
  },
  {
   "cell_type": "code",
   "execution_count": null,
   "metadata": {},
   "outputs": [],
   "source": [
    "p = Symbol('p')\n",
    "r = Function('r')(p)\n",
    "t = Function('t')(p)\n",
    "R = Function('R')(r, t)\n",
    "\n",
    "R.diff(p).diff(p)"
   ]
  },
  {
   "cell_type": "code",
   "execution_count": null,
   "metadata": {
    "collapsed": true
   },
   "outputs": [],
   "source": [
    "L = symbols('L')\n",
    "\n",
    "p = Symbol('p')\n",
    "r = Function('r')(p)\n",
    "phi = Function('\\\\phi')(p)\n",
    "t = Function('t')(p)\n",
    "\n",
    "R = Function('R')(r, t)\n",
    "E = Function('E')(r, t)\n",
    "alpha = Function('\\\\alpha')(r, t)"
   ]
  },
  {
   "cell_type": "code",
   "execution_count": null,
   "metadata": {
    "collapsed": true
   },
   "outputs": [],
   "source": [
    "rhs = (1 + E)/(R.diff(r))**2 * (alpha**2*(t.diff(p))**2 - L**2 / R**2)\n",
    "rhs.diff(p)"
   ]
  }
 ],
 "metadata": {
  "kernelspec": {
   "display_name": "Python 3",
   "language": "python",
   "name": "python3"
  },
  "language_info": {
   "codemirror_mode": {
    "name": "ipython",
    "version": 3
   },
   "file_extension": ".py",
   "mimetype": "text/x-python",
   "name": "python",
   "nbconvert_exporter": "python",
   "pygments_lexer": "ipython3",
   "version": "3.6.2"
  }
 },
 "nbformat": 4,
 "nbformat_minor": 2
}
