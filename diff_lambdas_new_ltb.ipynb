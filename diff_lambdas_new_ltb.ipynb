{
 "cells": [
  {
   "cell_type": "code",
   "execution_count": 1,
   "metadata": {
    "collapsed": true
   },
   "outputs": [],
   "source": [
    "import numpy as np\n",
    "import pandas as pd\n",
    "import matplotlib.pyplot as plt\n",
    "import seaborn as sns\n",
    "import scipy.integrate as spi\n",
    "plt.style.use('seaborn-white')\n",
    "from util import plot_diff_lambdas_distances\n",
    "%matplotlib inline"
   ]
  },
  {
   "cell_type": "code",
   "execution_count": 2,
   "metadata": {
    "collapsed": true
   },
   "outputs": [],
   "source": [
    "filename = 'data/ltb_cheese2.csv'\n",
    "df = pd.read_csv(filename)"
   ]
  },
  {
   "cell_type": "code",
   "execution_count": 3,
   "metadata": {},
   "outputs": [
    {
     "data": {
      "text/plain": [
       "0.0004979481256"
      ]
     },
     "execution_count": 3,
     "metadata": {},
     "output_type": "execute_result"
    }
   ],
   "source": [
    "# df.values\n",
    "6.22435157e+02*8e-7"
   ]
  },
  {
   "cell_type": "code",
   "execution_count": 4,
   "metadata": {},
   "outputs": [
    {
     "data": {
      "text/plain": [
       "50"
      ]
     },
     "execution_count": 4,
     "metadata": {},
     "output_type": "execute_result"
    }
   ],
   "source": [
    "df[df.om_lambdas==0].count()\n",
    "df.om_lambdas.nunique()\n",
    "# df = df.head(2500)"
   ]
  },
  {
   "cell_type": "code",
   "execution_count": 5,
   "metadata": {
    "collapsed": true
   },
   "outputs": [],
   "source": [
    "# zs = np.linspace(0.2, 1, 50)\n",
    "# z_lens = []\n",
    "# for z in zs:\n",
    "#     z_lens.extend([z]*50)\n",
    "\n",
    "# df['z_lens'] = z_lens\n",
    "# df['comoving_lens'] = df.DL*(1+df.z_lens)\n",
    "# df['raw_rs'] = df.rs - df.comoving_lens\n",
    "# df['M'] = 1474e12 / 3.086e22\n",
    "# df.to_csv('data/diff_lambdas_bigger_redshifts2.csv', index=False)"
   ]
  },
  {
   "cell_type": "code",
   "execution_count": 6,
   "metadata": {},
   "outputs": [],
   "source": [
    "length_scale = 3.086e22\n",
    "H_0 = 7.56e-27 * length_scale\n",
    "# M_total = 1474e12 / length_scale\n",
    "\n",
    "preds_first_order = []\n",
    "preds_frw = []\n",
    "preds_ishak = []\n",
    "for index, row in df.iterrows():\n",
    "    M_total = row.M\n",
    "    Lambda = 3*row.om_lambdas*H_0**2\n",
    "    enclosed_r = row.DL*row.theta\n",
    "    rho_frw_initial = (1-row.om_lambdas)*3*H_0**2/(8*np.pi)\n",
    "    r_h = (3*M_total/(4*np.pi*rho_frw_initial))**(1./3)\n",
    "    \n",
    "    def mass(r):\n",
    "        initial_rh = (3*M_total/(4*np.pi*rho_frw_initial))**(1./3)\n",
    "        rlimit = initial_rh*0.5\n",
    "        if r > rlimit:\n",
    "            return M_total\n",
    "        else:\n",
    "            c = 10\n",
    "            Rvir = rlimit/100\n",
    "            Rs = Rvir/c\n",
    "            rho0 = M_total/(4*np.pi*Rs**3*(np.log((Rs + rlimit)/Rs) - rlimit/(Rs + rlimit)))\n",
    "            return 4*np.pi*rho0*Rs**3*(np.log((Rs+r)/Rs) - r/(Rs+r))\n",
    "\n",
    "    def rho(r):\n",
    "        initial_rh = (3*M_total/(4*np.pi*rho_frw_initial))**(1./3)\n",
    "        rlimit = initial_rh*0.5\n",
    "        if r > rlimit:\n",
    "            return 0\n",
    "        else:\n",
    "            c = 10\n",
    "            Rvir = rlimit/100\n",
    "            Rs = Rvir/c\n",
    "            rho0 = M_total/(4*np.pi*Rs**3*(np.log((Rs + rlimit)/Rs) - rlimit/(Rs + rlimit)))\n",
    "            return rho0/(r/Rs)/(1 + r/Rs)**2\n",
    "\n",
    "    def projected_mass(r):\n",
    "        initial_rh = (3*M_total/(4*np.pi*rho_frw_initial))**(1./3)\n",
    "        rlimit = initial_rh*0.5\n",
    "        if r > rlimit:\n",
    "            return M_total\n",
    "        else:\n",
    "            c = 10\n",
    "            Rvir = rlimit/100\n",
    "            Rs = Rvir/c\n",
    "            \n",
    "            g = 1/(np.log(1+c) - c/(1+c))\n",
    "            Rtilde = r / Rvir\n",
    "            if r > Rs:\n",
    "                c_inverse = np.arccos(1/c/Rtilde)\n",
    "            else:\n",
    "                c_inverse = np.arccosh(1/c/Rtilde)\n",
    "            return 1/(np.log(1+c*Rtilde) - c*Rtilde/(1+c*Rtilde))*mass(r)*(c_inverse/np.abs(c**2*Rtilde**2-1)**(1/2) + np.log(c*Rtilde/2))\n",
    "\n",
    "    M = projected_mass(enclosed_r)\n",
    "    \n",
    "    A_frw = 4*M/(row.DL*row.theta) + 15*np.pi*M**2/4/(row.DL*row.theta)**2 + 401/12*M**3/(row.DL*row.theta)**3\n",
    "    frw = row.comoving_lens/(A_frw/row.theta -1)\n",
    "#     print(\"A_FRW=====\", A_frw, frw)\n",
    "    \n",
    "    A_ishak = 4*M/(row.DL*row.theta) + 15*np.pi*M**2/4/(row.DL*row.theta)**2 + 305/12*M**3/(row.DL*row.theta)**3 - Lambda*row.DL*row.theta*row.exit_rhs/3\n",
    "    ishak = row.comoving_lens/(A_ishak/row.theta -1)\n",
    "    \n",
    "    \n",
    "    preds_frw.append(frw)\n",
    "    preds_ishak.append(ishak)\n",
    "\n",
    "df['preds_frw'] = preds_frw\n",
    "df['preds_ishak'] = preds_ishak\n",
    "\n",
    "df['numerical'] = df.raw_rs/df.preds_frw\n",
    "df['ishak'] = df.preds_ishak/df.preds_frw"
   ]
  },
  {
   "cell_type": "code",
   "execution_count": 7,
   "metadata": {},
   "outputs": [
    {
     "data": {
      "text/html": [
       "<div>\n",
       "<style>\n",
       "    .dataframe thead tr:only-child th {\n",
       "        text-align: right;\n",
       "    }\n",
       "\n",
       "    .dataframe thead th {\n",
       "        text-align: left;\n",
       "    }\n",
       "\n",
       "    .dataframe tbody tr th {\n",
       "        vertical-align: top;\n",
       "    }\n",
       "</style>\n",
       "<table border=\"1\" class=\"dataframe\">\n",
       "  <thead>\n",
       "    <tr style=\"text-align: right;\">\n",
       "      <th></th>\n",
       "      <th>DL</th>\n",
       "      <th>M</th>\n",
       "      <th>comoving_lens</th>\n",
       "      <th>exit_rhs</th>\n",
       "      <th>numerical_thetas</th>\n",
       "      <th>om_lambdas</th>\n",
       "      <th>raw_rs</th>\n",
       "      <th>rs</th>\n",
       "      <th>step</th>\n",
       "      <th>theta</th>\n",
       "      <th>z_lens</th>\n",
       "      <th>preds_frw</th>\n",
       "      <th>preds_ishak</th>\n",
       "      <th>numerical</th>\n",
       "      <th>ishak</th>\n",
       "    </tr>\n",
       "  </thead>\n",
       "  <tbody>\n",
       "    <tr>\n",
       "      <th>0</th>\n",
       "      <td>362.678499</td>\n",
       "      <td>4.776410e-08</td>\n",
       "      <td>398.946349</td>\n",
       "      <td>1.096901</td>\n",
       "      <td>8.000000e-07</td>\n",
       "      <td>0.000000</td>\n",
       "      <td>23.739345</td>\n",
       "      <td>422.685694</td>\n",
       "      <td>1.000000e-08</td>\n",
       "      <td>8.000000e-07</td>\n",
       "      <td>0.1</td>\n",
       "      <td>23.739055</td>\n",
       "      <td>23.739055</td>\n",
       "      <td>1.000012</td>\n",
       "      <td>1.0</td>\n",
       "    </tr>\n",
       "    <tr>\n",
       "      <th>1</th>\n",
       "      <td>363.110079</td>\n",
       "      <td>4.776410e-08</td>\n",
       "      <td>399.421087</td>\n",
       "      <td>1.103702</td>\n",
       "      <td>8.000000e-07</td>\n",
       "      <td>0.018367</td>\n",
       "      <td>23.962073</td>\n",
       "      <td>423.383160</td>\n",
       "      <td>1.000000e-08</td>\n",
       "      <td>8.000000e-07</td>\n",
       "      <td>0.1</td>\n",
       "      <td>23.961772</td>\n",
       "      <td>23.961773</td>\n",
       "      <td>1.000013</td>\n",
       "      <td>1.0</td>\n",
       "    </tr>\n",
       "    <tr>\n",
       "      <th>2</th>\n",
       "      <td>363.543684</td>\n",
       "      <td>4.776410e-08</td>\n",
       "      <td>399.898052</td>\n",
       "      <td>1.110674</td>\n",
       "      <td>8.000000e-07</td>\n",
       "      <td>0.036735</td>\n",
       "      <td>24.191063</td>\n",
       "      <td>424.089115</td>\n",
       "      <td>1.000000e-08</td>\n",
       "      <td>8.000000e-07</td>\n",
       "      <td>0.1</td>\n",
       "      <td>24.190816</td>\n",
       "      <td>24.190818</td>\n",
       "      <td>1.000010</td>\n",
       "      <td>1.0</td>\n",
       "    </tr>\n",
       "    <tr>\n",
       "      <th>3</th>\n",
       "      <td>363.979329</td>\n",
       "      <td>4.776410e-08</td>\n",
       "      <td>400.377262</td>\n",
       "      <td>1.117826</td>\n",
       "      <td>8.000000e-07</td>\n",
       "      <td>0.055102</td>\n",
       "      <td>24.426743</td>\n",
       "      <td>424.804006</td>\n",
       "      <td>1.000000e-08</td>\n",
       "      <td>8.000000e-07</td>\n",
       "      <td>0.1</td>\n",
       "      <td>24.426500</td>\n",
       "      <td>24.426502</td>\n",
       "      <td>1.000010</td>\n",
       "      <td>1.0</td>\n",
       "    </tr>\n",
       "    <tr>\n",
       "      <th>4</th>\n",
       "      <td>364.417035</td>\n",
       "      <td>4.776410e-08</td>\n",
       "      <td>400.858738</td>\n",
       "      <td>1.125165</td>\n",
       "      <td>8.000000e-07</td>\n",
       "      <td>0.073469</td>\n",
       "      <td>24.669392</td>\n",
       "      <td>425.528130</td>\n",
       "      <td>1.000000e-08</td>\n",
       "      <td>8.000000e-07</td>\n",
       "      <td>0.1</td>\n",
       "      <td>24.669158</td>\n",
       "      <td>24.669160</td>\n",
       "      <td>1.000009</td>\n",
       "      <td>1.0</td>\n",
       "    </tr>\n",
       "  </tbody>\n",
       "</table>\n",
       "</div>"
      ],
      "text/plain": [
       "           DL             M  comoving_lens  exit_rhs  numerical_thetas  \\\n",
       "0  362.678499  4.776410e-08     398.946349  1.096901      8.000000e-07   \n",
       "1  363.110079  4.776410e-08     399.421087  1.103702      8.000000e-07   \n",
       "2  363.543684  4.776410e-08     399.898052  1.110674      8.000000e-07   \n",
       "3  363.979329  4.776410e-08     400.377262  1.117826      8.000000e-07   \n",
       "4  364.417035  4.776410e-08     400.858738  1.125165      8.000000e-07   \n",
       "\n",
       "   om_lambdas     raw_rs          rs          step         theta  z_lens  \\\n",
       "0    0.000000  23.739345  422.685694  1.000000e-08  8.000000e-07     0.1   \n",
       "1    0.018367  23.962073  423.383160  1.000000e-08  8.000000e-07     0.1   \n",
       "2    0.036735  24.191063  424.089115  1.000000e-08  8.000000e-07     0.1   \n",
       "3    0.055102  24.426743  424.804006  1.000000e-08  8.000000e-07     0.1   \n",
       "4    0.073469  24.669392  425.528130  1.000000e-08  8.000000e-07     0.1   \n",
       "\n",
       "   preds_frw  preds_ishak  numerical  ishak  \n",
       "0  23.739055    23.739055   1.000012    1.0  \n",
       "1  23.961772    23.961773   1.000013    1.0  \n",
       "2  24.190816    24.190818   1.000010    1.0  \n",
       "3  24.426500    24.426502   1.000010    1.0  \n",
       "4  24.669158    24.669160   1.000009    1.0  "
      ]
     },
     "execution_count": 7,
     "metadata": {},
     "output_type": "execute_result"
    }
   ],
   "source": [
    "df.head()"
   ]
  },
  {
   "cell_type": "code",
   "execution_count": 8,
   "metadata": {
    "scrolled": true
   },
   "outputs": [
    {
     "data": {
      "text/html": [
       "<div>\n",
       "<style>\n",
       "    .dataframe thead tr:only-child th {\n",
       "        text-align: right;\n",
       "    }\n",
       "\n",
       "    .dataframe thead th {\n",
       "        text-align: left;\n",
       "    }\n",
       "\n",
       "    .dataframe tbody tr th {\n",
       "        vertical-align: top;\n",
       "    }\n",
       "</style>\n",
       "<table border=\"1\" class=\"dataframe\">\n",
       "  <thead>\n",
       "    <tr style=\"text-align: right;\">\n",
       "      <th></th>\n",
       "      <th>numerical mean</th>\n",
       "      <th>numerical std</th>\n",
       "      <th>numerical count</th>\n",
       "      <th>ishak mean</th>\n",
       "      <th>ishak std</th>\n",
       "      <th>ishak count</th>\n",
       "      <th>numerical mean std</th>\n",
       "      <th>ishak mean std</th>\n",
       "    </tr>\n",
       "    <tr>\n",
       "      <th>om_lambdas</th>\n",
       "      <th></th>\n",
       "      <th></th>\n",
       "      <th></th>\n",
       "      <th></th>\n",
       "      <th></th>\n",
       "      <th></th>\n",
       "      <th></th>\n",
       "      <th></th>\n",
       "    </tr>\n",
       "  </thead>\n",
       "  <tbody>\n",
       "    <tr>\n",
       "      <th>0.000000</th>\n",
       "      <td>1.000011</td>\n",
       "      <td>1.368022e-06</td>\n",
       "      <td>2</td>\n",
       "      <td>1.0</td>\n",
       "      <td>7.213005e-13</td>\n",
       "      <td>2</td>\n",
       "      <td>9.673378e-07</td>\n",
       "      <td>5.100365e-13</td>\n",
       "    </tr>\n",
       "    <tr>\n",
       "      <th>0.018367</th>\n",
       "      <td>1.000012</td>\n",
       "      <td>1.025450e-06</td>\n",
       "      <td>2</td>\n",
       "      <td>1.0</td>\n",
       "      <td>6.542149e-10</td>\n",
       "      <td>2</td>\n",
       "      <td>7.251023e-07</td>\n",
       "      <td>4.625998e-10</td>\n",
       "    </tr>\n",
       "    <tr>\n",
       "      <th>0.036735</th>\n",
       "      <td>1.000011</td>\n",
       "      <td>7.538435e-07</td>\n",
       "      <td>2</td>\n",
       "      <td>1.0</td>\n",
       "      <td>1.326807e-09</td>\n",
       "      <td>2</td>\n",
       "      <td>5.330479e-07</td>\n",
       "      <td>9.381946e-10</td>\n",
       "    </tr>\n",
       "    <tr>\n",
       "      <th>0.055102</th>\n",
       "      <td>1.000010</td>\n",
       "      <td>2.827576e-07</td>\n",
       "      <td>2</td>\n",
       "      <td>1.0</td>\n",
       "      <td>2.019401e-09</td>\n",
       "      <td>2</td>\n",
       "      <td>1.999398e-07</td>\n",
       "      <td>1.427932e-09</td>\n",
       "    </tr>\n",
       "    <tr>\n",
       "      <th>0.073469</th>\n",
       "      <td>1.000009</td>\n",
       "      <td>4.509934e-07</td>\n",
       "      <td>2</td>\n",
       "      <td>1.0</td>\n",
       "      <td>2.732960e-09</td>\n",
       "      <td>2</td>\n",
       "      <td>3.189005e-07</td>\n",
       "      <td>1.932494e-09</td>\n",
       "    </tr>\n",
       "  </tbody>\n",
       "</table>\n",
       "</div>"
      ],
      "text/plain": [
       "            numerical mean  numerical std  numerical count  ishak mean  \\\n",
       "om_lambdas                                                               \n",
       "0.000000          1.000011   1.368022e-06                2         1.0   \n",
       "0.018367          1.000012   1.025450e-06                2         1.0   \n",
       "0.036735          1.000011   7.538435e-07                2         1.0   \n",
       "0.055102          1.000010   2.827576e-07                2         1.0   \n",
       "0.073469          1.000009   4.509934e-07                2         1.0   \n",
       "\n",
       "               ishak std  ishak count  numerical mean std  ishak mean std  \n",
       "om_lambdas                                                                 \n",
       "0.000000    7.213005e-13            2        9.673378e-07    5.100365e-13  \n",
       "0.018367    6.542149e-10            2        7.251023e-07    4.625998e-10  \n",
       "0.036735    1.326807e-09            2        5.330479e-07    9.381946e-10  \n",
       "0.055102    2.019401e-09            2        1.999398e-07    1.427932e-09  \n",
       "0.073469    2.732960e-09            2        3.189005e-07    1.932494e-09  "
      ]
     },
     "execution_count": 8,
     "metadata": {},
     "output_type": "execute_result"
    }
   ],
   "source": [
    "stats = df[['om_lambdas', 'numerical', 'ishak']].groupby('om_lambdas').agg(['mean', 'std', 'count'])\n",
    "stats.columns = [' '.join(col).strip() for col in stats.columns.values]\n",
    "stats['numerical mean std'] = stats['numerical std']/np.sqrt(stats['numerical count'])\n",
    "stats['ishak mean std'] = stats['ishak std']/np.sqrt(stats['ishak count'])\n",
    "stats.head()"
   ]
  },
  {
   "cell_type": "code",
   "execution_count": 9,
   "metadata": {},
   "outputs": [],
   "source": [
    "stats['numerical mean'] = stats['numerical mean'] - 1\n",
    "stats['ishak mean'] = stats['ishak mean'] - 1"
   ]
  },
  {
   "cell_type": "code",
   "execution_count": 10,
   "metadata": {},
   "outputs": [],
   "source": [
    "stats = stats[stats['numerical mean'].abs() < 0.001]"
   ]
  },
  {
   "cell_type": "code",
   "execution_count": 11,
   "metadata": {},
   "outputs": [
    {
     "data": {
      "text/plain": [
       "<matplotlib.legend.Legend at 0x17170925ba8>"
      ]
     },
     "execution_count": 11,
     "metadata": {},
     "output_type": "execute_result"
    },
    {
     "data": {
      "image/png": "[encoded data removed]",
      "text/plain": [
       "<matplotlib.figure.Figure at 0x1717070e9b0>"
      ]
     },
     "metadata": {},
     "output_type": "display_data"
    }
   ],
   "source": [
    "scale = 1\n",
    "# stats = stats.head(49)\n",
    "plt.plot(stats.index, stats['numerical mean']/scale, '.', label='__nolegend__')\n",
    "# plt.plot(stats.index, stats['numerical first order mean']/scale, 'b-', label='with second order corrections')\n",
    "plt.errorbar(stats.index, stats['numerical mean']/scale, yerr=stats['numerical mean std']/scale, linestyle='none', label='__nolegend__')\n",
    "plt.xlabel('Omega_Lambda')\n",
    "plt.ylabel('Mean fractional deviation')\n",
    "plt.plot(stats.index, stats['ishak mean']/scale, 'g-', label='Rindler&Ishak predictions')\n",
    "plt.plot(stats.index, [0/scale]*len(stats.index), 'r-', label='FRW predictions')\n",
    "# plt.ylim((-0.0008, 0.0008))\n",
    "plt.legend()\n",
    "# plt.savefig('images/half_analytical.png',  dpi=400)"
   ]
  },
  {
   "cell_type": "code",
   "execution_count": null,
   "metadata": {
    "collapsed": true
   },
   "outputs": [],
   "source": []
  }
 ],
 "metadata": {
  "kernelspec": {
   "display_name": "Python 3",
   "language": "python",
   "name": "python3"
  },
  "language_info": {
   "codemirror_mode": {
    "name": "ipython",
    "version": 3
   },
   "file_extension": ".py",
   "mimetype": "text/x-python",
   "name": "python",
   "nbconvert_exporter": "python",
   "pygments_lexer": "ipython3",
   "version": "3.6.2"
  }
 },
 "nbformat": 4,
 "nbformat_minor": 2
}
