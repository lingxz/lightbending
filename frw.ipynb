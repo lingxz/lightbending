{
 "cells": [
  {
   "cell_type": "code",
   "execution_count": 1,
   "metadata": {
    "collapsed": true
   },
   "outputs": [],
   "source": [
    "from sympy import *\n",
    "from gravipy import *\n",
    "init_printing(use_unicode=False, wrap_line=False, no_global=True)"
   ]
  },
  {
   "cell_type": "code",
   "execution_count": null,
   "metadata": {
    "collapsed": true
   },
   "outputs": [],
   "source": [
    "t, chi, theta, phi, tau = symbols('t, \\\\chi, \\\\theta, \\\\phi, \\\\tau')\n",
    "\n",
    "x = Coordinates('\\chi', [t, chi, theta, phi])\n",
    "a = Function('a')(t)\n",
    "fk = Function('f')(chi)\n",
    "\n",
    "Metric = diag(-1, a**2, a**2*fk**2, a**2*fk**2*sin(theta)**2)\n",
    "g = MetricTensor('g', x, Metric)\n",
    "Ga = Christoffel('Ga', g)\n",
    "# Ri = Ricci('Ri', g)\n",
    "# G = Einstein('G', Ri)\n",
    "# w = Geodesic('w', g, tau)"
   ]
  },
  {
   "cell_type": "code",
   "execution_count": 2,
   "metadata": {
    "collapsed": true
   },
   "outputs": [],
   "source": [
    "t, r, theta, phi, tau = symbols('t, r, \\\\theta, \\\\phi, \\\\tau')\n",
    "\n",
    "x = Coordinates('\\chi', [t, r, theta, phi])\n",
    "alpha = Function('\\\\alpha')(r)\n",
    "E = Function('E')(r)\n",
    "\n",
    "Metric = diag(-alpha**2, 1/(1+E), r**2, r**2*sin(theta)**2)\n",
    "g = MetricTensor('g', x, Metric)\n",
    "Ga = Christoffel('Ga', g)\n",
    "Ri = Ricci('Ri', g)\n",
    "G = Einstein('G', Ri)\n",
    "w = Geodesic('w', g, tau)"
   ]
  },
  {
   "cell_type": "code",
   "execution_count": 4,
   "metadata": {},
   "outputs": [
    {
     "data": {
      "image/png": "[encoded data removed]",
      "text/latex": [
       "$$\\alpha{\\left (r{\\left (\\tau \\right )} \\right )} \\frac{d}{d r{\\left (\\tau \\right )}} \\alpha{\\left (r{\\left (\\tau \\right )} \\right )} \\left(\\frac{d}{d \\tau} t{\\left (\\tau \\right )}\\right)^{2} - r{\\left (\\tau \\right )} \\sin^{2}{\\left (\\theta{\\left (\\tau \\right )} \\right )} \\left(\\frac{d}{d \\tau} \\phi{\\left (\\tau \\right )}\\right)^{2} - r{\\left (\\tau \\right )} \\left(\\frac{d}{d \\tau} \\theta{\\left (\\tau \\right )}\\right)^{2} + \\frac{\\frac{d^{2}}{d \\tau^{2}}  r{\\left (\\tau \\right )}}{E{\\left (r{\\left (\\tau \\right )} \\right )} + 1} + \\frac{\\frac{d}{d r{\\left (\\tau \\right )}} E{\\left (r{\\left (\\tau \\right )} \\right )} \\left(\\frac{d}{d \\tau} r{\\left (\\tau \\right )}\\right)^{2}}{2 \\left(E{\\left (r{\\left (\\tau \\right )} \\right )} + 1\\right)^{2}} - \\frac{\\left(\\frac{d}{d \\tau} r{\\left (\\tau \\right )}\\right)^{2}}{\\left(E{\\left (r{\\left (\\tau \\right )} \\right )} + 1\\right)^{2}} \\left. \\frac{d}{d \\xi_{1}} E{\\left (\\xi_{1} \\right )} \\right|_{\\substack{ \\xi_{1}=r{\\left (\\tau \\right )} }}$$"
      ],
      "text/plain": [
       "                                                                                                                                                    2                                                                                                      \n",
       "                                                                                                                                                   d                                                    2                   2                              \n",
       "                                                                                                                                                 ------(r(\\tau))      d                 /  d           \\    /  d           \\  /  d           \\|            \n",
       "                                                          2                                                 2                                2        2            --------(E(r(\\tau)))*|-----(r(\\tau))|    |-----(r(\\tau))| *|-----(E(xi_1))||            \n",
       "                   d                      /  d           \\               2               /  d              \\            /  d                \\    d\\tau             dr(\\tau)             \\d\\tau         /    \\d\\tau         /  \\dxi_1         /|xi_1=r(\\tau)\n",
       "\\alpha(r(\\tau))*--------(\\alpha(r(\\tau)))*|-----(t(\\tau))|  - r(\\tau)*sin (\\theta(\\tau))*|-----(\\phi(\\tau))|  - r(\\tau)*|-----(\\theta(\\tau))|  + --------------- + -------------------------------------- - -----------------------------------------------\n",
       "                dr(\\tau)                  \\d\\tau         /                               \\d\\tau            /            \\d\\tau              /     E(r(\\tau)) + 1                              2                                            2               \n",
       "                                                                                                                                                                            2*(E(r(\\tau)) + 1)                             (E(r(\\tau)) + 1)                "
      ]
     },
     "execution_count": 4,
     "metadata": {},
     "output_type": "execute_result"
    }
   ],
   "source": [
    "w(2)"
   ]
  },
  {
   "cell_type": "code",
   "execution_count": null,
   "metadata": {
    "collapsed": true
   },
   "outputs": [],
   "source": [
    "t, r, theta, phi, tau = symbols('t, r, \\\\theta, \\\\phi, \\\\tau')\n",
    "\n",
    "x = Coordinates('\\chi', [t, r, theta, phi])\n",
    "A = Function('A')(r)\n",
    "\n",
    "Metric = diag(A, -1/A, -r**2, -r**2*sin(theta)**2)\n",
    "g = MetricTensor('g', x, Metric)\n",
    "Ga = Christoffel('Ga', g)\n",
    "# Ri = Ricci('Ri', g)\n",
    "# G = Einstein('G', Ri)\n",
    "# w = Geodesic('w', g, tau)"
   ]
  },
  {
   "cell_type": "code",
   "execution_count": null,
   "metadata": {
    "collapsed": true
   },
   "outputs": [],
   "source": [
    "Ga(-1, 1, 2)"
   ]
  },
  {
   "cell_type": "code",
   "execution_count": null,
   "metadata": {
    "collapsed": true
   },
   "outputs": [],
   "source": [
    "t, chi, theta, phi, tau = symbols('t, \\\\chi, \\\\theta, \\\\phi, \\\\tau')\n",
    "\n",
    "x = Coordinates('\\chi', [t, chi, theta, phi])\n",
    "a = Function('a')(t)\n",
    "fk = Function('f')(chi)\n",
    "\n",
    "Metric = diag(-1, a**2, a**2*fk**2, a**2*fk**2*sin(theta)**2)\n",
    "g = MetricTensor('g', x, Metric)\n",
    "Ga = Christoffel('Ga', g)\n",
    "# Ri = Ricci('Ri', g)\n",
    "# G = Einstein('G', Ri)\n",
    "# w = Geodesic('w', g, tau)"
   ]
  },
  {
   "cell_type": "code",
   "execution_count": null,
   "metadata": {
    "collapsed": true
   },
   "outputs": [],
   "source": [
    "t, r, theta, phi, tau = symbols('t, r, \\\\theta, \\\\phi, \\\\tau')\n",
    "k = symbols('k')\n",
    "\n",
    "x = Coordinates('\\chi', [t, r, phi])\n",
    "a = Function('a')(t)\n",
    "\n",
    "\n",
    "Metric = diag(-1, a**2/(1-k*r**2), a**2*r**2)\n",
    "# Metric = diag(-alpha**2,(R.diff(r))**2/(1 + E), R**2, R**2*(sin(theta))**2)\n",
    "g = MetricTensor('g', x, Metric)\n",
    "Ga = Christoffel('Ga', g)\n",
    "Ri = Ricci('Ri', g)\n",
    "G = Einstein('G', Ri)\n",
    "w = Geodesic('w', g, tau)"
   ]
  },
  {
   "cell_type": "code",
   "execution_count": null,
   "metadata": {
    "collapsed": true
   },
   "outputs": [],
   "source": [
    "w(2)"
   ]
  },
  {
   "cell_type": "code",
   "execution_count": 2,
   "metadata": {
    "collapsed": true
   },
   "outputs": [],
   "source": [
    "t, x, y, z, tau = symbols('t, x, y, z, \\\\tau')\n",
    "x = Coordinates('\\chi', [t, x, y, z])\n",
    "a = Function('a')(t)\n",
    "Metric = diag(-a**2, a**2, a**2, a**2)\n",
    "g = MetricTensor('g', x, Metric)\n",
    "Ga = Christoffel('Ga', g)\n",
    "Ri = Ricci('Ri', g)\n",
    "G = Einstein('G', Ri)\n",
    "w = Geodesic('w', g, tau)"
   ]
  },
  {
   "cell_type": "code",
   "execution_count": 4,
   "metadata": {},
   "outputs": [
    {
     "data": {
      "image/png": "[encoded data removed]",
      "text/latex": [
       "$$a^{2}{\\left (t{\\left (\\tau \\right )} \\right )} \\frac{d^{2}}{d \\tau^{2}}  x{\\left (\\tau \\right )} + 2 a{\\left (t{\\left (\\tau \\right )} \\right )} \\frac{d}{d \\tau} t{\\left (\\tau \\right )} \\frac{d}{d \\tau} x{\\left (\\tau \\right )} \\left. \\frac{d}{d \\xi_{1}} a{\\left (\\xi_{1} \\right )} \\right|_{\\substack{ \\xi_{1}=t{\\left (\\tau \\right )} }}$$"
      ],
      "text/plain": [
       "               2                                                                                      \n",
       " 2            d                              d              d            /  d           \\|            \n",
       "a (t(\\tau))*------(x(\\tau)) + 2*a(t(\\tau))*-----(t(\\tau))*-----(x(\\tau))*|-----(a(xi_1))||            \n",
       "                 2                         d\\tau          d\\tau          \\dxi_1         /|xi_1=t(\\tau)\n",
       "            d\\tau                                                                                     "
      ]
     },
     "execution_count": 4,
     "metadata": {},
     "output_type": "execute_result"
    }
   ],
   "source": [
    "w(2)"
   ]
  },
  {
   "cell_type": "code",
   "execution_count": null,
   "metadata": {
    "collapsed": true
   },
   "outputs": [],
   "source": [
    "w(2)"
   ]
  },
  {
   "cell_type": "code",
   "execution_count": null,
   "metadata": {
    "collapsed": true
   },
   "outputs": [],
   "source": [
    "w(3)"
   ]
  },
  {
   "cell_type": "code",
   "execution_count": null,
   "metadata": {
    "collapsed": true
   },
   "outputs": [],
   "source": []
  }
 ],
 "metadata": {
  "kernelspec": {
   "display_name": "Python 3",
   "language": "python",
   "name": "python3"
  },
  "language_info": {
   "codemirror_mode": {
    "name": "ipython",
    "version": 3
   },
   "file_extension": ".py",
   "mimetype": "text/x-python",
   "name": "python",
   "nbconvert_exporter": "python",
   "pygments_lexer": "ipython3",
   "version": "3.6.2"
  }
 },
 "nbformat": 4,
 "nbformat_minor": 1
}
