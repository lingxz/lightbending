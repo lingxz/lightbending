{
 "cells": [
  {
   "cell_type": "code",
   "execution_count": 1,
   "metadata": {
    "collapsed": true
   },
   "outputs": [],
   "source": [
    "from sympy import *\n",
    "from gravipy import *\n",
    "init_printing(use_unicode=False, wrap_line=False, no_global=True)"
   ]
  },
  {
   "cell_type": "code",
   "execution_count": 1,
   "metadata": {
    "collapsed": true
   },
   "outputs": [],
   "source": [
    "t, r, theta, phi, tau = symbols('t, r, \\\\theta, \\\\phi, \\\\tau')\n",
    "k = symbols('k')\n",
    "\n",
    "x = Coordinates('\\chi', [t, r, phi])\n",
    "a = Function('a')(t)\n",
    "\n",
    "\n",
    "Metric = diag(-1, a**2/(1-k*r**2), a**2*r**2)\n",
    "# Metric = diag(-alpha**2,(R.diff(r))**2/(1 + E), R**2, R**2*(sin(theta))**2)\n",
    "g = MetricTensor('g', x, Metric)\n",
    "Ga = Christoffel('Ga', g)\n",
    "Ri = Ricci('Ri', g)\n",
    "G = Einstein('G', Ri)\n",
    "w = Geodesic('w', g, tau)"
   ]
  },
  {
   "cell_type": "code",
   "execution_count": 3,
   "metadata": {},
   "outputs": [
    {
     "data": {
      "image/png": "[encoded data removed]",
      "text/plain": [
       "                                                                                                    2                                                                                      \n",
       "                                      2                                               2            d                                                                                       \n",
       "   2                  /  d           \\                                               a (t(\\tau))*------(r(\\tau))                  d              d            /  d           \\|            \n",
       "k*a (t(\\tau))*r(\\tau)*|-----(r(\\tau))|                                           2                    2            2*a(t(\\tau))*-----(r(\\tau))*-----(t(\\tau))*|-----(a(xi_1))||            \n",
       "                      \\d\\tau         /     2                  /  d              \\                d\\tau                          d\\tau          d\\tau          \\dxi_1         /|xi_1=t(\\tau)\n",
       "--------------------------------------- - a (t(\\tau))*r(\\tau)*|-----(\\phi(\\tau))|  + --------------------------- + ------------------------------------------------------------------------\n",
       "                            2                                 \\d\\tau            /               2                                                   2                                      \n",
       "          /     2          \\                                                               - k*r (\\tau) + 1                                    - k*r (\\tau) + 1                            \n",
       "          \\- k*r (\\tau) + 1/                                                                                                                                                               "
      ]
     },
     "execution_count": 3,
     "metadata": {},
     "output_type": "execute_result"
    }
   ],
   "source": [
    "w(2)"
   ]
  },
  {
   "cell_type": "code",
   "execution_count": 3,
   "metadata": {},
   "outputs": [],
   "source": [
    "t, x, y, z, tau = symbols('t, x, y, z, \\\\tau')\n",
    "x = Coordinates('\\chi', [t, x, y, z])\n",
    "a = Function('a')(t)\n",
    "Metric = diag(-1, a, a, a)\n",
    "g = MetricTensor('g', x, Metric)\n",
    "Ga = Christoffel('Ga', g)\n",
    "Ri = Ricci('Ri', g)\n",
    "G = Einstein('G', Ri)\n",
    "w = Geodesic('w', g, tau)"
   ]
  },
  {
   "cell_type": "code",
   "execution_count": 4,
   "metadata": {},
   "outputs": [
    {
     "data": {
      "image/png": "[encoded data removed]",
      "text/latex": [
       "$$- \\frac{1}{2} \\left(\\frac{d}{d \\tau} x{\\left (\\tau \\right )}\\right)^{2} \\left. \\frac{d}{d \\xi_{2}} a{\\left (\\xi_{2} \\right )} \\right|_{\\substack{ \\xi_{2}=t{\\left (\\tau \\right )} }} - \\frac{1}{2} \\left(\\frac{d}{d \\tau} y{\\left (\\tau \\right )}\\right)^{2} \\left. \\frac{d}{d \\xi_{2}} a{\\left (\\xi_{2} \\right )} \\right|_{\\substack{ \\xi_{2}=t{\\left (\\tau \\right )} }} - \\frac{1}{2} \\left(\\frac{d}{d \\tau} z{\\left (\\tau \\right )}\\right)^{2} \\left. \\frac{d}{d \\xi_{2}} a{\\left (\\xi_{2} \\right )} \\right|_{\\substack{ \\xi_{2}=t{\\left (\\tau \\right )} }} - \\frac{d^{2}}{d \\tau^{2}}  t{\\left (\\tau \\right )}$$"
      ],
      "text/plain": [
       "                  2                                                 2                                                 2                                                \n",
       "  /  d           \\  /  d           \\|               /  d           \\  /  d           \\|               /  d           \\  /  d           \\|                              \n",
       "  |-----(x(\\tau))| *|-----(a(xi_2))||               |-----(y(\\tau))| *|-----(a(xi_2))||               |-----(z(\\tau))| *|-----(a(xi_2))||                  2           \n",
       "  \\d\\tau         /  \\dxi_2         /|xi_2=t(\\tau)   \\d\\tau         /  \\dxi_2         /|xi_2=t(\\tau)   \\d\\tau         /  \\dxi_2         /|xi_2=t(\\tau)     d            \n",
       "- ----------------------------------------------- - ----------------------------------------------- - ----------------------------------------------- - ------(t(\\tau))\n",
       "                         2                                                 2                                                 2                               2         \n",
       "                                                                                                                                                        d\\tau          "
      ]
     },
     "execution_count": 4,
     "metadata": {},
     "output_type": "execute_result"
    }
   ],
   "source": [
    "w(1)"
   ]
  },
  {
   "cell_type": "code",
   "execution_count": 5,
   "metadata": {},
   "outputs": [
    {
     "data": {
      "image/png": "[encoded data removed]",
      "text/latex": [
       "$$a{\\left (t{\\left (\\tau \\right )} \\right )} \\frac{d^{2}}{d \\tau^{2}}  x{\\left (\\tau \\right )} + \\frac{d}{d \\tau} t{\\left (\\tau \\right )} \\frac{d}{d \\tau} x{\\left (\\tau \\right )} \\left. \\frac{d}{d \\xi_{1}} a{\\left (\\xi_{1} \\right )} \\right|_{\\substack{ \\xi_{1}=t{\\left (\\tau \\right )} }}$$"
      ],
      "text/plain": [
       "              2                                                                         \n",
       "             d                 d              d            /  d           \\|            \n",
       "a(t(\\tau))*------(x(\\tau)) + -----(t(\\tau))*-----(x(\\tau))*|-----(a(xi_1))||            \n",
       "                2            d\\tau          d\\tau          \\dxi_1         /|xi_1=t(\\tau)\n",
       "           d\\tau                                                                        "
      ]
     },
     "execution_count": 5,
     "metadata": {},
     "output_type": "execute_result"
    }
   ],
   "source": [
    "w(2)"
   ]
  },
  {
   "cell_type": "code",
   "execution_count": 6,
   "metadata": {},
   "outputs": [
    {
     "data": {
      "image/png": "[encoded data removed]",
      "text/latex": [
       "$$a{\\left (t{\\left (\\tau \\right )} \\right )} \\frac{d^{2}}{d \\tau^{2}}  y{\\left (\\tau \\right )} + \\frac{d}{d \\tau} t{\\left (\\tau \\right )} \\frac{d}{d \\tau} y{\\left (\\tau \\right )} \\left. \\frac{d}{d \\xi_{1}} a{\\left (\\xi_{1} \\right )} \\right|_{\\substack{ \\xi_{1}=t{\\left (\\tau \\right )} }}$$"
      ],
      "text/plain": [
       "              2                                                                         \n",
       "             d                 d              d            /  d           \\|            \n",
       "a(t(\\tau))*------(y(\\tau)) + -----(t(\\tau))*-----(y(\\tau))*|-----(a(xi_1))||            \n",
       "                2            d\\tau          d\\tau          \\dxi_1         /|xi_1=t(\\tau)\n",
       "           d\\tau                                                                        "
      ]
     },
     "execution_count": 6,
     "metadata": {},
     "output_type": "execute_result"
    }
   ],
   "source": [
    "w(3)"
   ]
  },
  {
   "cell_type": "code",
   "execution_count": null,
   "metadata": {
    "collapsed": true
   },
   "outputs": [],
   "source": []
  }
 ],
 "metadata": {
  "kernelspec": {
   "display_name": "Python 3",
   "language": "python",
   "name": "python3"
  },
  "language_info": {
   "codemirror_mode": {
    "name": "ipython",
    "version": 3
   },
   "file_extension": ".py",
   "mimetype": "text/x-python",
   "name": "python",
   "nbconvert_exporter": "python",
   "pygments_lexer": "ipython3",
   "version": "3.6.2"
  }
 },
 "nbformat": 4,
 "nbformat_minor": 1
}
